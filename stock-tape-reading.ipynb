{
 "cells": [
  {
   "cell_type": "markdown",
   "id": "4e85b9b2",
   "metadata": {},
   "source": [
    "# Tape Analysis"
   ]
  },
  {
   "cell_type": "code",
   "execution_count": 124,
   "id": "d001e009",
   "metadata": {},
   "outputs": [],
   "source": [
    "import pandas as pd\n",
    "import datetime\n"
   ]
  },
  {
   "cell_type": "code",
   "execution_count": 125,
   "id": "75818ce6",
   "metadata": {},
   "outputs": [],
   "source": [
    "df1 = pd.read_excel('input/cvx.xlsx') #import data from excel file\n",
    "df1.sort_index(ascending=False, inplace = True) # rotate dataFrame\n",
    "df1.drop(columns=['Bid','Ask','Sizes'],inplace=True) # delete columns\n",
    "df1.dropna(how='any',inplace=True) # delete Nan Values"
   ]
  },
  {
   "cell_type": "code",
   "execution_count": 126,
   "id": "c9e82bbc",
   "metadata": {},
   "outputs": [],
   "source": [
    "df1.index=df1['Date'] # set index as Date column"
   ]
  },
  {
   "cell_type": "code",
   "execution_count": 127,
   "id": "0ff218ed",
   "metadata": {},
   "outputs": [],
   "source": [
    "vol_filter =1000"
   ]
  },
  {
   "cell_type": "code",
   "execution_count": null,
   "id": "336140a1",
   "metadata": {},
   "outputs": [],
   "source": []
  },
  {
   "cell_type": "code",
   "execution_count": 128,
   "id": "2b94464b",
   "metadata": {},
   "outputs": [],
   "source": [
    "res_list =[]\n",
    "pr = 0\n",
    "dt = 0\n",
    "tm = 0\n",
    "sz = 0\n",
    "\n",
    "ls1=[]\n",
    "\n",
    "for index, row in df1.iterrows():  # itter every row in order to agregate size\n",
    "    if (row['Price']== pr) & (row['Time']==tm) :\n",
    "        sz += row['Size']\n",
    "        \n",
    "    if (row['Price']!= pr):\n",
    "        \n",
    "        ls1=(dt,tm,pr,sz)\n",
    "        res_list.append(ls1)\n",
    "        \n",
    "        dt = row['Date']\n",
    "        tm = row['Time']\n",
    "        pr = row['Price']\n",
    "        sz = row['Size']\n"
   ]
  },
  {
   "cell_type": "code",
   "execution_count": null,
   "id": "443fdd08",
   "metadata": {},
   "outputs": [],
   "source": []
  },
  {
   "cell_type": "code",
   "execution_count": 129,
   "id": "1bb10d73",
   "metadata": {},
   "outputs": [],
   "source": [
    "# forming result dataSet\n",
    "df_output = pd.DataFrame(res_list[1:])\n",
    "df_output.columns= ['Date','Time','Price','Volume']\n",
    "df_output['Price_1']=0\n",
    "df_output['Volume_1']=0\n",
    "df_output['Vol_filter']=0\n"
   ]
  },
  {
   "cell_type": "code",
   "execution_count": 130,
   "id": "dfcaa595",
   "metadata": {},
   "outputs": [],
   "source": [
    "pr = 0\n",
    "\n",
    "for index, row in df_output.iterrows():\n",
    "    if row['Price']> pr:\n",
    "        \n",
    "        df_output.at[index,'Price_1']=row['Price']\n",
    "        df_output.at[index,'Volume_1']=row['Volume']\n",
    "      \n",
    "        \n",
    "    if row['Price']< pr:\n",
    "        df_output.at[index,'Price_1']=row['Price']*-1\n",
    "        df_output.at[index,'Volume_1']=row['Volume']*-1\n",
    "    pr = row['Price']   \n",
    "    \n",
    "    if row['Volume_1']>=vol_filter:\n",
    "        df_output.at[index,'Vol_filter']= row['Volume_1']\n"
   ]
  },
  {
   "cell_type": "code",
   "execution_count": null,
   "id": "b92a0d98",
   "metadata": {},
   "outputs": [],
   "source": [
    "\n"
   ]
  },
  {
   "cell_type": "code",
   "execution_count": 131,
   "id": "45092c6d",
   "metadata": {},
   "outputs": [],
   "source": [
    "# filtering volume\n",
    "for index, row in df_output.iterrows():\n",
    "    if row['Volume_1']>=vol_filter:\n",
    "        df_output.at[index,'Vol_filter']=row['Volume_1']\n",
    "    if row['Volume_1']<=vol_filter*-1:\n",
    "        df_output.at[index,'Vol_filter']=row['Volume_1']    \n",
    "   \n",
    "    "
   ]
  },
  {
   "cell_type": "code",
   "execution_count": 132,
   "id": "ce946409",
   "metadata": {},
   "outputs": [],
   "source": [
    "df_output.loc['Total'] = df_output.sum(numeric_only=True) # add Total substring\n",
    "\n"
   ]
  },
  {
   "cell_type": "code",
   "execution_count": 133,
   "id": "04f8c5f7",
   "metadata": {},
   "outputs": [],
   "source": [
    "with pd.ExcelWriter(\"output/output.xlsx\") as writer:\n",
    "   \n",
    "    df_output.to_excel(writer, sheet_name=\"output\")\n",
    "    "
   ]
  },
  {
   "cell_type": "code",
   "execution_count": null,
   "id": "93d15e9f",
   "metadata": {},
   "outputs": [],
   "source": []
  }
 ],
 "metadata": {
  "kernelspec": {
   "display_name": "Python 3 (ipykernel)",
   "language": "python",
   "name": "python3"
  },
  "language_info": {
   "codemirror_mode": {
    "name": "ipython",
    "version": 3
   },
   "file_extension": ".py",
   "mimetype": "text/x-python",
   "name": "python",
   "nbconvert_exporter": "python",
   "pygments_lexer": "ipython3",
   "version": "3.9.12"
  }
 },
 "nbformat": 4,
 "nbformat_minor": 5
}
