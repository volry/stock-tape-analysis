{
 "cells": [
  {
   "cell_type": "markdown",
   "id": "50013010",
   "metadata": {},
   "source": [
    "# Tape Analysis"
   ]
  },
  {
   "cell_type": "code",
   "execution_count": 12,
   "id": "6b2906b5",
   "metadata": {},
   "outputs": [],
   "source": [
    "import pandas as pd\n",
    "import datetime\n"
   ]
  },
  {
   "cell_type": "code",
   "execution_count": 8,
   "id": "30b07545",
   "metadata": {},
   "outputs": [],
   "source": [
    "df = pd.read_excel('input/cvx.xlsx', index_col = \"Date\") #import data from excel file"
   ]
  },
  {
   "cell_type": "code",
   "execution_count": 22,
   "id": "9ce74776",
   "metadata": {},
   "outputs": [],
   "source": [
    "df.drop(columns=['Bid','Ask','Sizes'],inplace=True) # delete columns\n"
   ]
  },
  {
   "cell_type": "code",
   "execution_count": 27,
   "id": "edfcff6d",
   "metadata": {},
   "outputs": [],
   "source": [
    "df.dropna(how='any',inplace=True)"
   ]
  },
  {
   "cell_type": "code",
   "execution_count": 31,
   "id": "60a054c1",
   "metadata": {},
   "outputs": [],
   "source": [
    "df.sort_index(inplace = True)"
   ]
  },
  {
   "cell_type": "code",
   "execution_count": 32,
   "id": "8362244a",
   "metadata": {},
   "outputs": [],
   "source": [
    "with pd.ExcelWriter(\"output/output.xlsx\") as writer:\n",
    "   \n",
    "    df.to_excel(writer, sheet_name=\"output\")\n",
    "    "
   ]
  },
  {
   "cell_type": "code",
   "execution_count": null,
   "id": "d2cc3cf3",
   "metadata": {},
   "outputs": [],
   "source": []
  }
 ],
 "metadata": {
  "kernelspec": {
   "display_name": "Python 3 (ipykernel)",
   "language": "python",
   "name": "python3"
  },
  "language_info": {
   "codemirror_mode": {
    "name": "ipython",
    "version": 3
   },
   "file_extension": ".py",
   "mimetype": "text/x-python",
   "name": "python",
   "nbconvert_exporter": "python",
   "pygments_lexer": "ipython3",
   "version": "3.9.12"
  }
 },
 "nbformat": 4,
 "nbformat_minor": 5
}
