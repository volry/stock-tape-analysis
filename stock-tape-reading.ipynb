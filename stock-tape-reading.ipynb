{
 "cells": [
  {
   "cell_type": "markdown",
   "id": "aa17580c",
   "metadata": {},
   "source": [
    "# Tape Analysis"
   ]
  },
  {
   "cell_type": "code",
   "execution_count": 12,
   "id": "0d0828aa",
   "metadata": {},
   "outputs": [],
   "source": [
    "import pandas as pd\n",
    "import datetime\n"
   ]
  },
  {
   "cell_type": "code",
   "execution_count": 8,
   "id": "c31195df",
   "metadata": {},
   "outputs": [],
   "source": [
    "df = pd.read_excel('input/cvx.xlsx', index_col = \"Date\") #import data from excel file"
   ]
  },
  {
   "cell_type": "code",
   "execution_count": 11,
   "id": "85ebb551",
   "metadata": {},
   "outputs": [
    {
     "name": "stdout",
     "output_type": "stream",
     "text": [
      "<class 'pandas.core.frame.DataFrame'>\n",
      "DatetimeIndex: 137683 entries, 2014-03-12 to 2014-03-11\n",
      "Data columns (total 6 columns):\n",
      " #   Column  Non-Null Count   Dtype  \n",
      "---  ------  --------------   -----  \n",
      " 0   Time    137683 non-null  object \n",
      " 1   Price   33121 non-null   float64\n",
      " 2   Size    33121 non-null   float64\n",
      " 3   Bid     137640 non-null  float64\n",
      " 4   Ask     137640 non-null  float64\n",
      " 5   Sizes   137640 non-null  object \n",
      "dtypes: float64(4), object(2)\n",
      "memory usage: 7.4+ MB\n"
     ]
    }
   ],
   "source": [
    "df.info()"
   ]
  },
  {
   "cell_type": "code",
   "execution_count": null,
   "id": "f3a06671",
   "metadata": {},
   "outputs": [],
   "source": []
  }
 ],
 "metadata": {
  "kernelspec": {
   "display_name": "Python 3 (ipykernel)",
   "language": "python",
   "name": "python3"
  },
  "language_info": {
   "codemirror_mode": {
    "name": "ipython",
    "version": 3
   },
   "file_extension": ".py",
   "mimetype": "text/x-python",
   "name": "python",
   "nbconvert_exporter": "python",
   "pygments_lexer": "ipython3",
   "version": "3.9.12"
  }
 },
 "nbformat": 4,
 "nbformat_minor": 5
}
