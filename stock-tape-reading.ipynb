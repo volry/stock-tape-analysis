{
 "cells": [
  {
   "cell_type": "markdown",
   "id": "4e85b9b2",
   "metadata": {},
   "source": [
    "# Tape Analysis"
   ]
  },
  {
   "cell_type": "code",
   "execution_count": 12,
   "id": "d001e009",
   "metadata": {},
   "outputs": [],
   "source": [
    "import pandas as pd\n",
    "import datetime\n"
   ]
  },
  {
   "cell_type": "code",
   "execution_count": 53,
   "id": "75818ce6",
   "metadata": {},
   "outputs": [],
   "source": [
    "df = pd.read_excel('input/cvx.xlsx', index_col = \"Date\") #import data from excel file"
   ]
  },
  {
   "cell_type": "code",
   "execution_count": 54,
   "id": "2b94464b",
   "metadata": {},
   "outputs": [],
   "source": [
    "df.drop(columns=['Bid','Ask','Sizes'],inplace=True) # delete columns\n"
   ]
  },
  {
   "cell_type": "code",
   "execution_count": 55,
   "id": "1bb10d73",
   "metadata": {},
   "outputs": [],
   "source": [
    "df.dropna(how='any',inplace=True)"
   ]
  },
  {
   "cell_type": "code",
   "execution_count": 58,
   "id": "6806f0de",
   "metadata": {},
   "outputs": [],
   "source": [
    "df['Time']=pd.to_datetime(df[\"Time\"],format='%H:%M:%S')"
   ]
  },
  {
   "cell_type": "code",
   "execution_count": 63,
   "id": "d8a9e4a7",
   "metadata": {},
   "outputs": [],
   "source": [
    "#df.groupby('Price').mean()\n"
   ]
  },
  {
   "cell_type": "code",
   "execution_count": 52,
   "id": "165f77df",
   "metadata": {},
   "outputs": [],
   "source": [
    "#df.sort_values(by =[\"Date\"]) \n"
   ]
  },
  {
   "cell_type": "code",
   "execution_count": 33,
   "id": "e878f4d8",
   "metadata": {},
   "outputs": [],
   "source": [
    "#f.sort_index(inplace = True)"
   ]
  },
  {
   "cell_type": "code",
   "execution_count": 32,
   "id": "04f8c5f7",
   "metadata": {},
   "outputs": [],
   "source": [
    "with pd.ExcelWriter(\"output/output.xlsx\") as writer:\n",
    "   \n",
    "    df.to_excel(writer, sheet_name=\"output\")\n",
    "    "
   ]
  },
  {
   "cell_type": "code",
   "execution_count": null,
   "id": "93d15e9f",
   "metadata": {},
   "outputs": [],
   "source": []
  }
 ],
 "metadata": {
  "kernelspec": {
   "display_name": "Python 3 (ipykernel)",
   "language": "python",
   "name": "python3"
  },
  "language_info": {
   "codemirror_mode": {
    "name": "ipython",
    "version": 3
   },
   "file_extension": ".py",
   "mimetype": "text/x-python",
   "name": "python",
   "nbconvert_exporter": "python",
   "pygments_lexer": "ipython3",
   "version": "3.9.12"
  }
 },
 "nbformat": 4,
 "nbformat_minor": 5
}
